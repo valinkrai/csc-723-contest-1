{
 "cells": [
  {
   "cell_type": "code",
   "execution_count": null,
   "id": "5aa79bc1-d852-4862-a1ba-3d6c548f8ff1",
   "metadata": {},
   "outputs": [],
   "source": []
  },
  {
   "cell_type": "code",
   "execution_count": 17,
   "id": "efd5c62f-fb18-4ac2-90a9-02f39ebb69be",
   "metadata": {},
   "outputs": [
    {
     "name": "stdout",
     "output_type": "stream",
     "text": [
      "['dur' 'proto' 'service' 'state' 'spkts' 'dpkts' 'sbytes' 'dbytes' 'rate'\n",
      " 'sttl' 'dttl' 'sload' 'dload' 'sloss' 'dloss' 'sinpkt' 'dinpkt' 'sjit'\n",
      " 'djit' 'swin' 'stcpb' 'dtcpb' 'dwin' 'tcprtt' 'synack' 'ackdat' 'smean'\n",
      " 'dmean' 'trans_depth' 'response_body_len' 'ct_srv_src' 'ct_state_ttl'\n",
      " 'ct_dst_ltm' 'ct_src_dport_ltm' 'ct_dst_sport_ltm' 'ct_dst_src_ltm'\n",
      " 'is_ftp_login' 'ct_ftp_cmd' 'ct_flw_http_mthd' 'ct_src_ltm' 'ct_srv_dst'\n",
      " 'is_sm_ips_ports' 'label']\n"
     ]
    },
    {
     "data": {
      "text/plain": [
       "dur                   float64\n",
       "proto                category\n",
       "service              category\n",
       "state                category\n",
       "spkts                   int64\n",
       "dpkts                   int64\n",
       "sbytes                  int64\n",
       "dbytes                  int64\n",
       "rate                  float64\n",
       "sttl                    int64\n",
       "dttl                    int64\n",
       "sload                 float64\n",
       "dload                 float64\n",
       "sloss                   int64\n",
       "dloss                   int64\n",
       "sinpkt                float64\n",
       "dinpkt                float64\n",
       "sjit                  float64\n",
       "djit                  float64\n",
       "swin                    int64\n",
       "stcpb                   int64\n",
       "dtcpb                   int64\n",
       "dwin                    int64\n",
       "tcprtt                float64\n",
       "synack                float64\n",
       "ackdat                float64\n",
       "smean                   int64\n",
       "dmean                   int64\n",
       "trans_depth             int64\n",
       "response_body_len       int64\n",
       "ct_srv_src              int64\n",
       "ct_state_ttl            int64\n",
       "ct_dst_ltm              int64\n",
       "ct_src_dport_ltm        int64\n",
       "ct_dst_sport_ltm        int64\n",
       "ct_dst_src_ltm          int64\n",
       "is_ftp_login            int64\n",
       "ct_ftp_cmd              int64\n",
       "ct_flw_http_mthd        int64\n",
       "ct_src_ltm              int64\n",
       "ct_srv_dst              int64\n",
       "is_sm_ips_ports         int64\n",
       "dtype: object"
      ]
     },
     "metadata": {},
     "output_type": "display_data"
    },
    {
     "data": {
      "text/plain": [
       "array(['dur', 'spkts', 'dpkts', 'sbytes', 'dbytes', 'rate', 'sttl',\n",
       "       'dttl', 'sload', 'dload', 'sloss', 'dloss', 'sinpkt', 'dinpkt',\n",
       "       'sjit', 'djit', 'swin', 'stcpb', 'dtcpb', 'dwin', 'tcprtt',\n",
       "       'synack', 'ackdat', 'smean', 'dmean', 'trans_depth',\n",
       "       'response_body_len', 'ct_srv_src', 'ct_state_ttl', 'ct_dst_ltm',\n",
       "       'ct_src_dport_ltm', 'ct_dst_sport_ltm', 'ct_dst_src_ltm',\n",
       "       'is_ftp_login', 'ct_ftp_cmd', 'ct_flw_http_mthd', 'ct_src_ltm',\n",
       "       'ct_srv_dst', 'is_sm_ips_ports'], dtype=object)"
      ]
     },
     "metadata": {},
     "output_type": "display_data"
    },
    {
     "data": {
      "text/plain": [
       "array(['proto', 'service', 'state'], dtype=object)"
      ]
     },
     "metadata": {},
     "output_type": "display_data"
    },
    {
     "data": {
      "text/plain": [
       "dur                   float64\n",
       "proto                category\n",
       "service              category\n",
       "state                category\n",
       "spkts                   int64\n",
       "dpkts                   int64\n",
       "sbytes                  int64\n",
       "dbytes                  int64\n",
       "rate                  float64\n",
       "sttl                    int64\n",
       "dttl                    int64\n",
       "sload                 float64\n",
       "dload                 float64\n",
       "sloss                   int64\n",
       "dloss                   int64\n",
       "sinpkt                float64\n",
       "dinpkt                float64\n",
       "sjit                  float64\n",
       "djit                  float64\n",
       "swin                    int64\n",
       "stcpb                   int64\n",
       "dtcpb                   int64\n",
       "dwin                    int64\n",
       "tcprtt                float64\n",
       "synack                float64\n",
       "ackdat                float64\n",
       "smean                   int64\n",
       "dmean                   int64\n",
       "trans_depth             int64\n",
       "response_body_len       int64\n",
       "ct_srv_src              int64\n",
       "ct_state_ttl            int64\n",
       "ct_dst_ltm              int64\n",
       "ct_src_dport_ltm        int64\n",
       "ct_dst_sport_ltm        int64\n",
       "ct_dst_src_ltm          int64\n",
       "is_ftp_login            int64\n",
       "ct_ftp_cmd              int64\n",
       "ct_flw_http_mthd        int64\n",
       "ct_src_ltm              int64\n",
       "ct_srv_dst              int64\n",
       "is_sm_ips_ports         int64\n",
       "dtype: object"
      ]
     },
     "metadata": {},
     "output_type": "display_data"
    },
    {
     "data": {
      "text/plain": [
       "array(['proto', 'service', 'state'], dtype=object)"
      ]
     },
     "metadata": {},
     "output_type": "display_data"
    }
   ],
   "source": [
    "import pandas as pd\n",
    "\n",
    "train = pd.read_csv('UNSW_NB15_training-set.csv')\n",
    "test = pd.read_csv('UNSW_NB15_testing-set.csv')\n",
    "\n",
    "train\n",
    "\n",
    "train.drop(['id', 'attack_cat'], axis = 1, inplace= True)\n",
    "test.drop(['id', 'attack_cat'], axis = 1, inplace= True)\n",
    "\n",
    "print(train.columns.values)\n",
    "train\n",
    "\n",
    "X = train.drop('label', axis = 1)\n",
    "y = train['label']\n",
    "X.proto = pd.Categorical(pd.factorize(X.proto)[0] + 1)\n",
    "X.service = pd.Categorical(pd.factorize(X.service)[0] + 1)\n",
    "X.state = pd.Categorical(pd.factorize(X.state)[0] + 1)\n",
    "#X = pd.get_dummies(X, columns = ['proto', 'service', 'state'], drop_first = True)\n",
    "X.info\n",
    "display(X.dtypes)\n",
    "#display(X.proto)\n",
    "#X.iloc[:,:39]\n",
    "num_features = X.select_dtypes(exclude=['category']).columns.values\n",
    "display(num_features)\n",
    "cat_features = X.select_dtypes(include=['category']).columns.values\n",
    "display(cat_features)\n",
    "\n",
    "X_t = test.drop('label', axis = 1)\n",
    "y_t = test['label']\n",
    "#X_t = pd.get_dummies(X_t, columns = ['proto', 'service', 'state'], drop_first = True)\n",
    "X_t.proto = pd.Categorical(pd.factorize(X_t.proto)[0] + 1)\n",
    "X_t.service = pd.Categorical(pd.factorize(X_t.service)[0] + 1)\n",
    "X_t.state = pd.Categorical(pd.factorize(X_t.state)[0] + 1)\n",
    "X_t.info\n",
    "display(X_t.dtypes)\n",
    "X_t.iloc[:,:39]\n",
    "test_num_features = X_t.select_dtypes(exclude=['category']).columns.values\n",
    "#display(test_num_features)\n",
    "test_cat_features = X_t.select_dtypes(include=['category']).columns.values\n",
    "display(test_cat_features)"
   ]
  },
  {
   "cell_type": "code",
   "execution_count": 56,
   "id": "f34cbb70-ef46-4514-936c-1810ac271026",
   "metadata": {},
   "outputs": [
    {
     "name": "stdout",
     "output_type": "stream",
     "text": [
      "Logistic Regression model score: 0.935\n",
      "Logistic Regression model test score: 0.798\n"
     ]
    },
    {
     "name": "stderr",
     "output_type": "stream",
     "text": [
      "C:\\Users\\aller\\anaconda3\\lib\\site-packages\\sklearn\\svm\\_base.py:1206: ConvergenceWarning: Liblinear failed to converge, increase the number of iterations.\n",
      "  warnings.warn(\n"
     ]
    },
    {
     "name": "stdout",
     "output_type": "stream",
     "text": [
      "SVC model score: 0.935\n",
      "SVC model test score: 0.559\n",
      "Decision Tree model score: 0.936\n",
      "Decision Tree model test score: 0.859\n",
      "Stochastic Gradient Descent model score: 0.933\n",
      "Stochastic Gradient Descent model test score: 0.788\n"
     ]
    }
   ],
   "source": [
    "from sklearn.compose import ColumnTransformer\n",
    "from sklearn.pipeline import Pipeline\n",
    "from sklearn.impute import SimpleImputer\n",
    "from sklearn.preprocessing import StandardScaler, OneHotEncoder\n",
    "from sklearn.linear_model import LogisticRegression\n",
    "from sklearn.svm import LinearSVC\n",
    "from sklearn.tree import DecisionTreeClassifier as DTC\n",
    "from sklearn.model_selection import train_test_split, GridSearchCV\n",
    "from sklearn.linear_model import SGDClassifier\n",
    "\n",
    "#numeric_features = [\"dur\", \"sbytes\", \"dbytes\", \"sttl\", \"dttl\", \"sloss\", \"dloss\", \"sload\", \"dload\", \"spkts\", \"dpkts\", \"swin\", \"dwin\", \"stcpb\", \"dtcpb\", \"trans_depth\", \"sjit\", \"djit\", \"tcprtt\", \"synack\", \"ackdat\", \"ct_state_ttl\", \"ct_flw_http_mthd\", \"ct_ftp_cmd\", \"ct_srv_src\", \"ct_srv_dst\", \"ct_dst_ltm\", \"ct_src_dport_ltm\", \"ct_dst_sport_ltm\", \"ct_dst_src_ltm\"]\n",
    "numeric_features = num_features\n",
    "numeric_transformer = Pipeline(\n",
    "    steps=[(\"imputer\", SimpleImputer(strategy=\"median\")), (\"scaler\", StandardScaler())]\n",
    ")\n",
    "\n",
    "#categorical_features = [\"proto\", \"state\", \"service\"]\n",
    "categorical_features = cat_features\n",
    "categorical_transformer = OneHotEncoder(handle_unknown=\"ignore\")\n",
    "\n",
    "preprocessor = ColumnTransformer(\n",
    "    transformers=[\n",
    "        (\"num\", numeric_transformer, numeric_features),\n",
    "        (\"cat\", categorical_transformer, categorical_features),\n",
    "    ]\n",
    ")\n",
    "\n",
    "lr_pl = Pipeline(\n",
    "    steps=[(\"preprocessor\", preprocessor), (\"classifier\", LogisticRegression(max_iter = 2000))] #incresed max_iter, default 100 wasn't enough\n",
    ")\n",
    "\n",
    "X_train, X_test, y_train, y_test = train_test_split(X, y, test_size=0.2, random_state=0)\n",
    "\n",
    "lr_pl.fit(X_train, y_train)\n",
    "print(\"Logistic Regression model score: %.3f\" % lr_pl.score(X_test, y_test))\n",
    "print(\"Logistic Regression model test score: %.3f\" % lr_pl.score(X_t, y_t))\n",
    "\n",
    "# Append classifier to preprocessing pipeline.\n",
    "# Now we have a full prediction pipeline.\n",
    "svc_pl = Pipeline(\n",
    "    steps=[(\"preprocessor\", preprocessor), (\"classifier\", LinearSVC(max_iter = 1000))] #increased max_iter, default 1000 wasn't enough, neither was 2000, nor 4000, nor 10000, and that's as far as I'm going\n",
    ")\n",
    "\n",
    "X_train, X_test, y_train, y_test = train_test_split(X, y, test_size=0.2, random_state=0)\n",
    "\n",
    "svc_pl.fit(X_train, y_train)\n",
    "print(\"SVC model score: %.3f\" % svc_pl.score(X_test, y_test))\n",
    "print(\"SVC model test score: %.3f\" % svc_pl.score(X_t, y_t))\n",
    "\n",
    "# Append classifier to preprocessing pipeline.\n",
    "# Now we have a full prediction pipeline.\n",
    "dtc_pl = Pipeline(\n",
    "    steps=[(\"preprocessor\", preprocessor), (\"classifier\", DTC(random_state = 0, ccp_alpha = .000679))] #accuracy on test data drops dramatically at .0007, .0003 gives .832, 0004 gives .862\n",
    ")\n",
    "\n",
    "X_train, X_test, y_train, y_test = train_test_split(X, y, test_size=0.2, random_state=0)\n",
    "\n",
    "dtc_pl.fit(X_train, y_train)\n",
    "print(\"Decision Tree model score: %.3f\" % dtc_pl.score(X_test, y_test))\n",
    "print(\"Decision Tree model test score: %.3f\" % dtc_pl.score(X_t, y_t))\n",
    "\n",
    "sgd_pl = Pipeline(\n",
    "    steps=[(\"preprocessor\", preprocessor), (\"classifier\", SGDClassifier())] \n",
    ")\n",
    "\n",
    "X_train, X_test, y_train, y_test = train_test_split(X, y, test_size=0.2, random_state=0)\n",
    "\n",
    "sgd_pl.fit(X_train, y_train)\n",
    "print(\"Stochastic Gradient Descent model score: %.3f\" % sgd_pl.score(X_test, y_test))\n",
    "print(\"Stochastic Gradient Descent model test score: %.3f\" % sgd_pl.score(X_t, y_t))"
   ]
  },
  {
   "cell_type": "code",
   "execution_count": 22,
   "id": "db051d94-9643-4e91-aeaf-07b3d5086e93",
   "metadata": {},
   "outputs": [
    {
     "data": {
      "text/plain": [
       "<bound method Series.info of 0        0\n",
       "1        0\n",
       "2        0\n",
       "3        0\n",
       "4        0\n",
       "        ..\n",
       "82327    0\n",
       "82328    0\n",
       "82329    0\n",
       "82330    0\n",
       "82331    0\n",
       "Name: label, Length: 82332, dtype: int64>"
      ]
     },
     "execution_count": 22,
     "metadata": {},
     "output_type": "execute_result"
    }
   ],
   "source": [
    "y_t.info"
   ]
  },
  {
   "cell_type": "code",
   "execution_count": 24,
   "id": "a29c0bc8-03d6-4d6c-85f7-a5d6b2b721f4",
   "metadata": {},
   "outputs": [
    {
     "data": {
      "image/png": "[encoded data removed]",
      "text/plain": [
       "<Figure size 1440x1440 with 2 Axes>"
      ]
     },
     "metadata": {
      "needs_background": "light"
     },
     "output_type": "display_data"
    }
   ],
   "source": [
    "from sklearn.metrics import confusion_matrix, ConfusionMatrixDisplay\n",
    "import matplotlib.pyplot as plt\n",
    "\n",
    "prediction = dtc_pl.predict(X_t)\n",
    "fig, ax = plt.subplots(figsize=(20, 20))\n",
    "\n",
    "disp = ConfusionMatrixDisplay.from_predictions(y_t, prediction, cmap=plt.cm.Blues, display_labels=dtc_pl.classes_, ax = ax)\n",
    "disp.ax_.set_title('Decision Tree Confusion matrix, without normalization')\n",
    "plt.show()"
   ]
  },
  {
   "cell_type": "code",
   "execution_count": 31,
   "id": "fc57300b-44bd-4ed7-abf1-f97b7cac3655",
   "metadata": {},
   "outputs": [],
   "source": [
    "clf = DTC(random_state=0)\n",
    "path = clf.cost_complexity_pruning_path(X_train, y_train)\n",
    "ccp_alphas, impurities = path.ccp_alphas, path.impurities"
   ]
  },
  {
   "cell_type": "code",
   "execution_count": 32,
   "id": "6d104eb2-28e6-4888-b5a8-6c219acffa96",
   "metadata": {},
   "outputs": [
    {
     "data": {
      "text/plain": [
       "Text(0.5, 1.0, 'Total Impurity vs effective alpha for training set')"
      ]
     },
     "execution_count": 32,
     "metadata": {},
     "output_type": "execute_result"
    },
    {
     "data": {
      "image/png": "[encoded data removed]",
      "text/plain": [
       "<Figure size 432x288 with 1 Axes>"
      ]
     },
     "metadata": {
      "needs_background": "light"
     },
     "output_type": "display_data"
    }
   ],
   "source": [
    "fig, ax = plt.subplots()\n",
    "ax.plot(ccp_alphas[:-1], impurities[:-1], marker=\"o\", drawstyle=\"steps-post\")\n",
    "ax.set_xlabel(\"effective alpha\")\n",
    "ax.set_ylabel(\"total impurity of leaves\")\n",
    "ax.set_title(\"Total Impurity vs effective alpha for training set\")"
   ]
  },
  {
   "cell_type": "code",
   "execution_count": 34,
   "id": "dd3d80ea-1aa8-4983-8902-efd5db4599ec",
   "metadata": {},
   "outputs": [
    {
     "name": "stdout",
     "output_type": "stream",
     "text": [
      "Number of nodes in the last tree is: 1 with ccp_alpha: 0.29284304086104024\n"
     ]
    }
   ],
   "source": [
    "clfs = []\n",
    "for ccp_alpha in ccp_alphas:\n",
    "    clf = DTC(random_state=0, ccp_alpha=ccp_alpha)\n",
    "    clf.fit(X_train, y_train)\n",
    "    clfs.append(clf)\n",
    "print(\n",
    "    \"Number of nodes in the last tree is: {} with ccp_alpha: {}\".format(\n",
    "        clfs[-1].tree_.node_count, ccp_alphas[-1]\n",
    "    )\n",
    ")"
   ]
  },
  {
   "cell_type": "code",
   "execution_count": 35,
   "id": "6e822241-f9bc-47cc-9f1b-a91704bcb216",
   "metadata": {},
   "outputs": [
    {
     "data": {
      "image/png": "[encoded data removed]",
      "text/plain": [
       "<Figure size 432x288 with 2 Axes>"
      ]
     },
     "metadata": {
      "needs_background": "light"
     },
     "output_type": "display_data"
    }
   ],
   "source": [
    "clfs = clfs[:-1]\n",
    "ccp_alphas = ccp_alphas[:-1]\n",
    "\n",
    "node_counts = [clf.tree_.node_count for clf in clfs]\n",
    "depth = [clf.tree_.max_depth for clf in clfs]\n",
    "fig, ax = plt.subplots(2, 1)\n",
    "ax[0].plot(ccp_alphas, node_counts, marker=\"o\", drawstyle=\"steps-post\")\n",
    "ax[0].set_xlabel(\"alpha\")\n",
    "ax[0].set_ylabel(\"number of nodes\")\n",
    "ax[0].set_title(\"Number of nodes vs alpha\")\n",
    "ax[1].plot(ccp_alphas, depth, marker=\"o\", drawstyle=\"steps-post\")\n",
    "ax[1].set_xlabel(\"alpha\")\n",
    "ax[1].set_ylabel(\"depth of tree\")\n",
    "ax[1].set_title(\"Depth vs alpha\")\n",
    "fig.tight_layout()"
   ]
  },
  {
   "cell_type": "code",
   "execution_count": 53,
   "id": "0cf7a3e4-e7df-4a3d-900b-d01f1ce203f3",
   "metadata": {},
   "outputs": [
    {
     "data": {
      "image/png": "[encoded data removed]",
      "text/plain": [
       "<Figure size 1440x1440 with 1 Axes>"
      ]
     },
     "metadata": {
      "needs_background": "light"
     },
     "output_type": "display_data"
    },
    {
     "name": "stdout",
     "output_type": "stream",
     "text": [
      "[0.00012649 0.00012762 0.00013273 0.00013912 0.00015241 0.0001565\n",
      " 0.00015909 0.00015912 0.00016661 0.00016833 0.00017546 0.00018066\n",
      " 0.00018983 0.00022631 0.0002301  0.00026272 0.00026518 0.00027001\n",
      " 0.0003178  0.00032757 0.00035391 0.00038179 0.00039244 0.00042491\n",
      " 0.00064082 0.00065119 0.00068052 0.00073777 0.00086808 0.00088909\n",
      " 0.0011457  0.00183632 0.00189505 0.00214216 0.00246803 0.00253052\n",
      " 0.00258925 0.00339791 0.00760131 0.01553689]\n",
      "[0.8582568138755283, 0.8603580624787446, 0.8642569110430938, 0.8637953651071273, 0.8649006461643104, 0.8660059272214935, 0.8695039595782927, 0.8695039595782927, 0.8695039595782927, 0.8561677112179954, 0.8561677112179954, 0.8561677112179954, 0.8575159111888452, 0.8575159111888452, 0.8575159111888452, 0.860224457076228, 0.8486615167856969, 0.8437302628382646, 0.8404751493951319, 0.840001457513482, 0.8369892629840159, 0.8727347811300588, 0.8727347811300588, 0.8727347811300588, 0.8700019433513093, 0.8700019433513093, 0.879791575572074, 0.8186245931108196, 0.8186245931108196, 0.8186245931108196, 0.8186245931108196, 0.8063328960792887, 0.8063328960792887, 0.8056527231210222, 0.7827454695622601, 0.7827454695622601, 0.7670650536850799, 0.7663241509983967, 0.7663241509983967, 0.7663241509983967]\n"
     ]
    }
   ],
   "source": [
    "train_scores = [clf.score(X_train, y_train) for clf in clfs]\n",
    "test_scores = [clf.score(X_t, y_t) for clf in clfs]\n",
    "\n",
    "fig, ax = plt.subplots(figsize = (20,20))\n",
    "ax.set_xlabel(\"alpha\")\n",
    "ax.set_ylabel(\"accuracy\")\n",
    "ax.set_title(\"Accuracy vs alpha for training and testing sets\")\n",
    "ax.plot(ccp_alphas, train_scores, marker=\"o\", label=\"train\", drawstyle=\"steps-post\")\n",
    "ax.plot(ccp_alphas, test_scores, marker=\"o\", label=\"test\", drawstyle=\"steps-post\")\n",
    "ax.tick_params(axis = 'both', which = 'both')\n",
    "ax.legend()\n",
    "plt.show()\n",
    "print(ccp_alphas[-40:])\n",
    "print(test_scores[-40:])"
   ]
  },
  {
   "cell_type": "code",
   "execution_count": 69,
   "id": "b5d1688b-1ecd-46ee-a519-3106d3a07d39",
   "metadata": {},
   "outputs": [
    {
     "data": {
      "text/plain": [
       "array([ 0,  1,  2,  3,  4,  5,  6,  7,  8,  9, 10, 11, 12, 13, 14, 15, 16,\n",
       "       17, 18, 19, 20, 21, 22, 23, 24, 25, 26, 27, 28, 29, 30, 31, 32, 33,\n",
       "       34, 35, 36, 37, 38, 39, 40, 41], dtype=int64)"
      ]
     },
     "metadata": {},
     "output_type": "display_data"
    },
    {
     "name": "stdout",
     "output_type": "stream",
     "text": [
      "['dur' 'proto' 'service' 'state' 'spkts' 'dpkts' 'sbytes' 'dbytes' 'rate'\n",
      " 'sttl' 'dttl' 'sload' 'dload' 'sloss' 'dloss' 'sinpkt' 'dinpkt' 'sjit'\n",
      " 'djit' 'swin' 'stcpb' 'dtcpb' 'dwin' 'tcprtt' 'synack' 'ackdat' 'smean'\n",
      " 'dmean' 'trans_depth' 'response_body_len' 'ct_srv_src' 'ct_state_ttl'\n",
      " 'ct_dst_ltm' 'ct_src_dport_ltm' 'ct_dst_sport_ltm' 'ct_dst_src_ltm'\n",
      " 'is_ftp_login' 'ct_ftp_cmd' 'ct_flw_http_mthd' 'ct_src_ltm' 'ct_srv_dst'\n",
      " 'is_sm_ips_ports']\n"
     ]
    }
   ],
   "source": [
    "from sklearn.feature_selection import SelectKBest\n",
    "from sklearn.feature_selection import chi2\n",
    "X.shape\n",
    "X_new = SelectKBest(chi2, k=42).fit(X, y)\n",
    "#X_new.shape\n",
    "names = X_new.get_support(1)\n",
    "display(names)\n",
    "X_new = X[X.columns[names]]\n",
    "#X_new.get_feature_names_out()\n",
    "#display(X_new)\n",
    "#X_new = pd.DataFrame(X_new)\n",
    "X_new\n",
    "print(X_new.columns.values)\n",
    "num_features =X_new.select_dtypes(exclude=['category']).columns.values\n",
    "cat_features = X_new.select_dtypes(include=['category']).columns.values"
   ]
  },
  {
   "cell_type": "code",
   "execution_count": 70,
   "id": "784d1f42-4511-4227-b1e9-05b780c690d4",
   "metadata": {},
   "outputs": [
    {
     "name": "stdout",
     "output_type": "stream",
     "text": [
      "model score: 0.950\n",
      "Decision Tree model test score: 0.859\n"
     ]
    }
   ],
   "source": [
    "#numeric_features = [\"dur\", \"sbytes\", \"dbytes\", \"sttl\", \"dttl\", \"sloss\", \"dloss\", \"sload\", \"dload\", \"spkts\", \"dpkts\", \"swin\", \"dwin\", \"stcpb\", \"dtcpb\", \"trans_depth\", \"sjit\", \"djit\", \"tcprtt\", \"synack\", \"ackdat\", \"ct_state_ttl\", \"ct_flw_http_mthd\", \"ct_ftp_cmd\", \"ct_srv_src\", \"ct_srv_dst\", \"ct_dst_ltm\", \"ct_src_dport_ltm\", \"ct_dst_sport_ltm\", \"ct_dst_src_ltm\"]\n",
    "numeric_features = num_features\n",
    "numeric_transformer = Pipeline(\n",
    "    steps=[(\"imputer\", SimpleImputer(strategy=\"median\")), (\"scaler\", StandardScaler())]\n",
    ")\n",
    "\n",
    "#categorical_features = [\"proto\", \"state\", \"service\"]\n",
    "categorical_features = cat_features\n",
    "categorical_transformer = OneHotEncoder(handle_unknown=\"ignore\")\n",
    "\n",
    "preprocessor = ColumnTransformer(\n",
    "    transformers=[\n",
    "        (\"num\", numeric_transformer, numeric_features),\n",
    "        (\"cat\", categorical_transformer, categorical_features),\n",
    "    ]\n",
    ")\n",
    "\n",
    "clf = Pipeline(\n",
    "    steps=[(\"preprocessor\", preprocessor), (\"classifier\", DTC())] \n",
    ")\n",
    "\n",
    "X_train, X_test, y_train, y_test = train_test_split(X_new, y, test_size=0.2, random_state=0)\n",
    "\n",
    "clf.fit(X_train, y_train)\n",
    "print(\"model score: %.3f\" % clf.score(X_test, y_test))\n",
    "print(\"Decision Tree model test score: %.3f\" % dtc_pl.score(X_t, y_t))"
   ]
  },
  {
   "cell_type": "code",
   "execution_count": null,
   "id": "db5a52dc-8890-47d5-bc7d-7a8947afdfb0",
   "metadata": {},
   "outputs": [],
   "source": []
  }
 ],
 "metadata": {
  "kernelspec": {
   "display_name": "Python 3 (ipykernel)",
   "language": "python",
   "name": "python3"
  },
  "language_info": {
   "codemirror_mode": {
    "name": "ipython",
    "version": 3
   },
   "file_extension": ".py",
   "mimetype": "text/x-python",
   "name": "python",
   "nbconvert_exporter": "python",
   "pygments_lexer": "ipython3",
   "version": "3.9.7"
  }
 },
 "nbformat": 4,
 "nbformat_minor": 5
}
