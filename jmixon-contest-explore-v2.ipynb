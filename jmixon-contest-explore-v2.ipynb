{
 "cells": [
  {
   "cell_type": "code",
   "execution_count": null,
   "id": "5aa79bc1-d852-4862-a1ba-3d6c548f8ff1",
   "metadata": {},
   "outputs": [],
   "source": []
  },
  {
   "cell_type": "code",
   "execution_count": 10,
   "id": "efd5c62f-fb18-4ac2-90a9-02f39ebb69be",
   "metadata": {},
   "outputs": [
    {
     "name": "stdout",
     "output_type": "stream",
     "text": [
      "['dur' 'proto' 'service' 'state' 'spkts' 'dpkts' 'sbytes' 'dbytes' 'rate'\n",
      " 'sttl' 'dttl' 'sload' 'dload' 'sloss' 'dloss' 'sinpkt' 'dinpkt' 'sjit'\n",
      " 'djit' 'swin' 'stcpb' 'dtcpb' 'dwin' 'tcprtt' 'synack' 'ackdat' 'smean'\n",
      " 'dmean' 'trans_depth' 'response_body_len' 'ct_srv_src' 'ct_state_ttl'\n",
      " 'ct_dst_ltm' 'ct_src_dport_ltm' 'ct_dst_sport_ltm' 'ct_dst_src_ltm'\n",
      " 'is_ftp_login' 'ct_ftp_cmd' 'ct_flw_http_mthd' 'ct_src_ltm' 'ct_srv_dst'\n",
      " 'is_sm_ips_ports' 'label']\n"
     ]
    },
    {
     "data": {
      "text/plain": [
       "dur                   float64\n",
       "proto                category\n",
       "service              category\n",
       "state                category\n",
       "spkts                   int64\n",
       "dpkts                   int64\n",
       "sbytes                  int64\n",
       "dbytes                  int64\n",
       "rate                  float64\n",
       "sttl                    int64\n",
       "dttl                    int64\n",
       "sload                 float64\n",
       "dload                 float64\n",
       "sloss                   int64\n",
       "dloss                   int64\n",
       "sinpkt                float64\n",
       "dinpkt                float64\n",
       "sjit                  float64\n",
       "djit                  float64\n",
       "swin                    int64\n",
       "stcpb                   int64\n",
       "dtcpb                   int64\n",
       "dwin                    int64\n",
       "tcprtt                float64\n",
       "synack                float64\n",
       "ackdat                float64\n",
       "smean                   int64\n",
       "dmean                   int64\n",
       "trans_depth             int64\n",
       "response_body_len       int64\n",
       "ct_srv_src              int64\n",
       "ct_state_ttl            int64\n",
       "ct_dst_ltm              int64\n",
       "ct_src_dport_ltm        int64\n",
       "ct_dst_sport_ltm        int64\n",
       "ct_dst_src_ltm          int64\n",
       "is_ftp_login            int64\n",
       "ct_ftp_cmd              int64\n",
       "ct_flw_http_mthd        int64\n",
       "ct_src_ltm              int64\n",
       "ct_srv_dst              int64\n",
       "is_sm_ips_ports         int64\n",
       "dtype: object"
      ]
     },
     "metadata": {},
     "output_type": "display_data"
    },
    {
     "data": {
      "text/plain": [
       "array(['dur', 'spkts', 'dpkts', 'sbytes', 'dbytes', 'rate', 'sttl',\n",
       "       'dttl', 'sload', 'dload', 'sloss', 'dloss', 'sinpkt', 'dinpkt',\n",
       "       'sjit', 'djit', 'swin', 'stcpb', 'dtcpb', 'dwin', 'tcprtt',\n",
       "       'synack', 'ackdat', 'smean', 'dmean', 'trans_depth',\n",
       "       'response_body_len', 'ct_srv_src', 'ct_state_ttl', 'ct_dst_ltm',\n",
       "       'ct_src_dport_ltm', 'ct_dst_sport_ltm', 'ct_dst_src_ltm',\n",
       "       'is_ftp_login', 'ct_ftp_cmd', 'ct_flw_http_mthd', 'ct_src_ltm',\n",
       "       'ct_srv_dst', 'is_sm_ips_ports'], dtype=object)"
      ]
     },
     "metadata": {},
     "output_type": "display_data"
    },
    {
     "data": {
      "text/plain": [
       "array(['proto', 'service', 'state'], dtype=object)"
      ]
     },
     "metadata": {},
     "output_type": "display_data"
    },
    {
     "data": {
      "text/plain": [
       "dur                   float64\n",
       "proto                category\n",
       "service              category\n",
       "state                category\n",
       "spkts                   int64\n",
       "dpkts                   int64\n",
       "sbytes                  int64\n",
       "dbytes                  int64\n",
       "rate                  float64\n",
       "sttl                    int64\n",
       "dttl                    int64\n",
       "sload                 float64\n",
       "dload                 float64\n",
       "sloss                   int64\n",
       "dloss                   int64\n",
       "sinpkt                float64\n",
       "dinpkt                float64\n",
       "sjit                  float64\n",
       "djit                  float64\n",
       "swin                    int64\n",
       "stcpb                   int64\n",
       "dtcpb                   int64\n",
       "dwin                    int64\n",
       "tcprtt                float64\n",
       "synack                float64\n",
       "ackdat                float64\n",
       "smean                   int64\n",
       "dmean                   int64\n",
       "trans_depth             int64\n",
       "response_body_len       int64\n",
       "ct_srv_src              int64\n",
       "ct_state_ttl            int64\n",
       "ct_dst_ltm              int64\n",
       "ct_src_dport_ltm        int64\n",
       "ct_dst_sport_ltm        int64\n",
       "ct_dst_src_ltm          int64\n",
       "is_ftp_login            int64\n",
       "ct_ftp_cmd              int64\n",
       "ct_flw_http_mthd        int64\n",
       "ct_src_ltm              int64\n",
       "ct_srv_dst              int64\n",
       "is_sm_ips_ports         int64\n",
       "dtype: object"
      ]
     },
     "metadata": {},
     "output_type": "display_data"
    },
    {
     "data": {
      "text/plain": [
       "array(['proto', 'service', 'state'], dtype=object)"
      ]
     },
     "metadata": {},
     "output_type": "display_data"
    }
   ],
   "source": [
    "import pandas as pd\n",
    "\n",
    "train = pd.read_csv('UNSW_NB15_training-set.csv')\n",
    "test = pd.read_csv('UNSW_NB15_testing-set.csv')\n",
    "\n",
    "train\n",
    "\n",
    "train.drop(['id', 'attack_cat'], axis = 1, inplace= True)\n",
    "test.drop(['id', 'attack_cat'], axis = 1, inplace= True)\n",
    "\n",
    "print(train.columns.values)\n",
    "train\n",
    "\n",
    "X = train.drop('label', axis = 1)\n",
    "y = train['label']\n",
    "X.proto = pd.Categorical(pd.factorize(X.proto)[0] + 1)\n",
    "X.service = pd.Categorical(pd.factorize(X.service)[0] + 1)\n",
    "X.state = pd.Categorical(pd.factorize(X.state)[0] + 1)\n",
    "#X = pd.get_dummies(X, columns = ['proto', 'service', 'state'], drop_first = True)\n",
    "X.info\n",
    "display(X.dtypes)\n",
    "#display(X.proto)\n",
    "#X.iloc[:,:39]\n",
    "num_features = X.select_dtypes(exclude=['category']).columns.values\n",
    "display(num_features)\n",
    "cat_features = X.select_dtypes(include=['category']).columns.values\n",
    "display(cat_features)\n",
    "\n",
    "X_t = test.drop('label', axis = 1)\n",
    "y_t = test['label']\n",
    "#X_t = pd.get_dummies(X_t, columns = ['proto', 'service', 'state'], drop_first = True)\n",
    "X_t.proto = pd.Categorical(pd.factorize(X_t.proto)[0] + 1)\n",
    "X_t.service = pd.Categorical(pd.factorize(X_t.service)[0] + 1)\n",
    "X_t.state = pd.Categorical(pd.factorize(X_t.state)[0] + 1)\n",
    "X_t.info\n",
    "display(X_t.dtypes)\n",
    "X_t.iloc[:,:39]\n",
    "test_num_features = X_t.select_dtypes(exclude=['category']).columns.values\n",
    "#display(test_num_features)\n",
    "test_cat_features = X_t.select_dtypes(include=['category']).columns.values\n",
    "display(test_cat_features)"
   ]
  },
  {
   "cell_type": "code",
   "execution_count": 13,
   "id": "f34cbb70-ef46-4514-936c-1810ac271026",
   "metadata": {},
   "outputs": [
    {
     "name": "stdout",
     "output_type": "stream",
     "text": [
      "Logistic Regression model score: 0.935\n",
      "Logistic Regression model test score: 0.798\n"
     ]
    },
    {
     "name": "stderr",
     "output_type": "stream",
     "text": [
      "C:\\Users\\aller\\anaconda3\\lib\\site-packages\\sklearn\\svm\\_base.py:1206: ConvergenceWarning: Liblinear failed to converge, increase the number of iterations.\n",
      "  warnings.warn(\n"
     ]
    },
    {
     "name": "stdout",
     "output_type": "stream",
     "text": [
      "SVC model score: 0.935\n",
      "SVC model test score: 0.557\n",
      "Decision Tree model score: 0.950\n",
      "Decision Tree model test score: 0.854\n",
      "Stochastic Gradient Descent model score: 0.933\n",
      "Stochastic Gradient Descent model test score: 0.786\n"
     ]
    }
   ],
   "source": [
    "from sklearn.compose import ColumnTransformer\n",
    "from sklearn.pipeline import Pipeline\n",
    "from sklearn.impute import SimpleImputer\n",
    "from sklearn.preprocessing import StandardScaler, OneHotEncoder\n",
    "from sklearn.linear_model import LogisticRegression\n",
    "from sklearn.svm import LinearSVC\n",
    "from sklearn.tree import DecisionTreeClassifier as DTC\n",
    "from sklearn.model_selection import train_test_split, GridSearchCV\n",
    "from sklearn.linear_model import SGDClassifier\n",
    "\n",
    "#numeric_features = [\"dur\", \"sbytes\", \"dbytes\", \"sttl\", \"dttl\", \"sloss\", \"dloss\", \"sload\", \"dload\", \"spkts\", \"dpkts\", \"swin\", \"dwin\", \"stcpb\", \"dtcpb\", \"trans_depth\", \"sjit\", \"djit\", \"tcprtt\", \"synack\", \"ackdat\", \"ct_state_ttl\", \"ct_flw_http_mthd\", \"ct_ftp_cmd\", \"ct_srv_src\", \"ct_srv_dst\", \"ct_dst_ltm\", \"ct_src_dport_ltm\", \"ct_dst_sport_ltm\", \"ct_dst_src_ltm\"]\n",
    "numeric_features = num_features\n",
    "numeric_transformer = Pipeline(\n",
    "    steps=[(\"imputer\", SimpleImputer(strategy=\"median\")), (\"scaler\", StandardScaler())]\n",
    ")\n",
    "\n",
    "#categorical_features = [\"proto\", \"state\", \"service\"]\n",
    "categorical_features = cat_features\n",
    "categorical_transformer = OneHotEncoder(handle_unknown=\"ignore\")\n",
    "\n",
    "preprocessor = ColumnTransformer(\n",
    "    transformers=[\n",
    "        (\"num\", numeric_transformer, numeric_features),\n",
    "        (\"cat\", categorical_transformer, categorical_features),\n",
    "    ]\n",
    ")\n",
    "\n",
    "lr_pl = Pipeline(\n",
    "    steps=[(\"preprocessor\", preprocessor), (\"classifier\", LogisticRegression(max_iter = 2000))] #incresed max_iter, default 100 wasn't enough\n",
    ")\n",
    "\n",
    "X_train, X_test, y_train, y_test = train_test_split(X, y, test_size=0.2, random_state=0)\n",
    "\n",
    "lr_pl.fit(X_train, y_train)\n",
    "print(\"Logistic Regression model score: %.3f\" % lr_pl.score(X_test, y_test))\n",
    "print(\"Logistic Regression model test score: %.3f\" % lr_pl.score(X_t, y_t))\n",
    "\n",
    "# Append classifier to preprocessing pipeline.\n",
    "# Now we have a full prediction pipeline.\n",
    "svc_pl = Pipeline(\n",
    "    steps=[(\"preprocessor\", preprocessor), (\"classifier\", LinearSVC(max_iter = 1000))] #increased max_iter, default 1000 wasn't enough, neither was 2000, nor 4000, nor 10000, and that's as far as I'm going\n",
    ")\n",
    "\n",
    "X_train, X_test, y_train, y_test = train_test_split(X, y, test_size=0.2, random_state=0)\n",
    "\n",
    "svc_pl.fit(X_train, y_train)\n",
    "print(\"SVC model score: %.3f\" % svc_pl.score(X_test, y_test))\n",
    "print(\"SVC model test score: %.3f\" % svc_pl.score(X_t, y_t))\n",
    "\n",
    "# Append classifier to preprocessing pipeline.\n",
    "# Now we have a full prediction pipeline.\n",
    "dtc_pl = Pipeline(\n",
    "    steps=[(\"preprocessor\", preprocessor), (\"classifier\", DTC())] \n",
    ")\n",
    "\n",
    "X_train, X_test, y_train, y_test = train_test_split(X, y, test_size=0.2, random_state=0)\n",
    "\n",
    "dtc_pl.fit(X_train, y_train)\n",
    "print(\"Decision Tree model score: %.3f\" % dtc_pl.score(X_test, y_test))\n",
    "print(\"Decision Tree model test score: %.3f\" % dtc_pl.score(X_t, y_t))\n",
    "\n",
    "sgd_pl = Pipeline(\n",
    "    steps=[(\"preprocessor\", preprocessor), (\"classifier\", SGDClassifier())] \n",
    ")\n",
    "\n",
    "X_train, X_test, y_train, y_test = train_test_split(X, y, test_size=0.2, random_state=0)\n",
    "\n",
    "sgd_pl.fit(X_train, y_train)\n",
    "print(\"Stochastic Gradient Descent model score: %.3f\" % sgd_pl.score(X_test, y_test))\n",
    "print(\"Stochastic Gradient Descent model test score: %.3f\" % sgd_pl.score(X_t, y_t))"
   ]
  },
  {
   "cell_type": "code",
   "execution_count": null,
   "id": "a29c0bc8-03d6-4d6c-85f7-a5d6b2b721f4",
   "metadata": {},
   "outputs": [],
   "source": []
  }
 ],
 "metadata": {
  "kernelspec": {
   "display_name": "Python 3 (ipykernel)",
   "language": "python",
   "name": "python3"
  },
  "language_info": {
   "codemirror_mode": {
    "name": "ipython",
    "version": 3
   },
   "file_extension": ".py",
   "mimetype": "text/x-python",
   "name": "python",
   "nbconvert_exporter": "python",
   "pygments_lexer": "ipython3",
   "version": "3.9.7"
  }
 },
 "nbformat": 4,
 "nbformat_minor": 5
}
