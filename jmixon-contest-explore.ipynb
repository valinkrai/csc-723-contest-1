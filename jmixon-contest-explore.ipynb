{
 "cells": [
  {
   "cell_type": "markdown",
   "id": "13deb069-09d4-4cbc-8558-bcfcb24229e5",
   "metadata": {},
   "source": [
    "## Loading, Shaping and Viewing the Training Data"
   ]
  },
  {
   "cell_type": "code",
   "execution_count": 1,
   "id": "58d9e44e-a710-4bfa-b199-887966da8cbd",
   "metadata": {},
   "outputs": [
    {
     "name": "stdout",
     "output_type": "stream",
     "text": [
      "['dur' 'proto' 'service' 'state' 'spkts' 'dpkts' 'sbytes' 'dbytes' 'rate'\n",
      " 'sttl' 'dttl' 'sload' 'dload' 'sloss' 'dloss' 'sinpkt' 'dinpkt' 'sjit'\n",
      " 'djit' 'swin' 'stcpb' 'dtcpb' 'dwin' 'tcprtt' 'synack' 'ackdat' 'smean'\n",
      " 'dmean' 'trans_depth' 'response_body_len' 'ct_srv_src' 'ct_state_ttl'\n",
      " 'ct_dst_ltm' 'ct_src_dport_ltm' 'ct_dst_sport_ltm' 'ct_dst_src_ltm'\n",
      " 'is_ftp_login' 'ct_ftp_cmd' 'ct_flw_http_mthd' 'ct_src_ltm' 'ct_srv_dst'\n",
      " 'is_sm_ips_ports' 'label']\n"
     ]
    },
    {
     "data": {
      "text/plain": [
       "dur          float64\n",
       "spkts          int64\n",
       "dpkts          int64\n",
       "sbytes         int64\n",
       "dbytes         int64\n",
       "              ...   \n",
       "state_PAR      uint8\n",
       "state_REQ      uint8\n",
       "state_RST      uint8\n",
       "state_URN      uint8\n",
       "state_no       uint8\n",
       "Length: 191, dtype: object"
      ]
     },
     "metadata": {},
     "output_type": "display_data"
    },
    {
     "data": {
      "text/plain": [
       "array(['dur', 'spkts', 'dpkts', 'sbytes', 'dbytes', 'rate', 'sttl',\n",
       "       'dttl', 'sload', 'dload', 'sloss', 'dloss', 'sinpkt', 'dinpkt',\n",
       "       'sjit', 'djit', 'swin', 'stcpb', 'dtcpb', 'dwin', 'tcprtt',\n",
       "       'synack', 'ackdat', 'smean', 'dmean', 'trans_depth',\n",
       "       'response_body_len', 'ct_srv_src', 'ct_state_ttl', 'ct_dst_ltm',\n",
       "       'ct_src_dport_ltm', 'ct_dst_sport_ltm', 'ct_dst_src_ltm',\n",
       "       'is_ftp_login', 'ct_ftp_cmd', 'ct_flw_http_mthd', 'ct_src_ltm',\n",
       "       'ct_srv_dst', 'is_sm_ips_ports'], dtype=object)"
      ]
     },
     "metadata": {},
     "output_type": "display_data"
    },
    {
     "data": {
      "text/plain": [
       "array(['proto_a/n', 'proto_aes-sp3-d', 'proto_any', 'proto_argus',\n",
       "       'proto_aris', 'proto_arp', 'proto_ax.25', 'proto_bbn-rcc',\n",
       "       'proto_bna', 'proto_br-sat-mon', 'proto_cbt', 'proto_cftp',\n",
       "       'proto_chaos', 'proto_compaq-peer', 'proto_cphb', 'proto_cpnx',\n",
       "       'proto_crtp', 'proto_crudp', 'proto_dcn', 'proto_ddp', 'proto_ddx',\n",
       "       'proto_dgp', 'proto_egp', 'proto_eigrp', 'proto_emcon',\n",
       "       'proto_encap', 'proto_etherip', 'proto_fc', 'proto_fire',\n",
       "       'proto_ggp', 'proto_gmtp', 'proto_gre', 'proto_hmp',\n",
       "       'proto_i-nlsp', 'proto_iatp', 'proto_ib', 'proto_icmp',\n",
       "       'proto_idpr', 'proto_idpr-cmtp', 'proto_idrp', 'proto_ifmp',\n",
       "       'proto_igmp', 'proto_igp', 'proto_il', 'proto_ip', 'proto_ipcomp',\n",
       "       'proto_ipcv', 'proto_ipip', 'proto_iplt', 'proto_ipnip',\n",
       "       'proto_ippc', 'proto_ipv6', 'proto_ipv6-frag', 'proto_ipv6-no',\n",
       "       'proto_ipv6-opts', 'proto_ipv6-route', 'proto_ipx-n-ip',\n",
       "       'proto_irtp', 'proto_isis', 'proto_iso-ip', 'proto_iso-tp4',\n",
       "       'proto_kryptolan', 'proto_l2tp', 'proto_larp', 'proto_leaf-1',\n",
       "       'proto_leaf-2', 'proto_merit-inp', 'proto_mfe-nsp', 'proto_mhrp',\n",
       "       'proto_micp', 'proto_mobile', 'proto_mtp', 'proto_mux',\n",
       "       'proto_narp', 'proto_netblt', 'proto_nsfnet-igp', 'proto_nvp',\n",
       "       'proto_ospf', 'proto_pgm', 'proto_pim', 'proto_pipe', 'proto_pnni',\n",
       "       'proto_pri-enc', 'proto_prm', 'proto_ptp', 'proto_pup',\n",
       "       'proto_pvp', 'proto_qnx', 'proto_rdp', 'proto_rsvp', 'proto_rtp',\n",
       "       'proto_rvd', 'proto_sat-expak', 'proto_sat-mon', 'proto_sccopmce',\n",
       "       'proto_scps', 'proto_sctp', 'proto_sdrp', 'proto_secure-vmtp',\n",
       "       'proto_sep', 'proto_skip', 'proto_sm', 'proto_smp', 'proto_snp',\n",
       "       'proto_sprite-rpc', 'proto_sps', 'proto_srp', 'proto_st2',\n",
       "       'proto_stp', 'proto_sun-nd', 'proto_swipe', 'proto_tcf',\n",
       "       'proto_tcp', 'proto_tlsp', 'proto_tp++', 'proto_trunk-1',\n",
       "       'proto_trunk-2', 'proto_ttp', 'proto_udp', 'proto_unas',\n",
       "       'proto_uti', 'proto_vines', 'proto_visa', 'proto_vmtp',\n",
       "       'proto_vrrp', 'proto_wb-expak', 'proto_wb-mon', 'proto_wsn',\n",
       "       'proto_xnet', 'proto_xns-idp', 'proto_xtp', 'proto_zero',\n",
       "       'service_dhcp', 'service_dns', 'service_ftp', 'service_ftp-data',\n",
       "       'service_http', 'service_irc', 'service_pop3', 'service_radius',\n",
       "       'service_smtp', 'service_snmp', 'service_ssh', 'service_ssl',\n",
       "       'state_ECO', 'state_FIN', 'state_INT', 'state_PAR', 'state_REQ',\n",
       "       'state_RST', 'state_URN', 'state_no'], dtype=object)"
      ]
     },
     "metadata": {},
     "output_type": "display_data"
    }
   ],
   "source": [
    "import pandas as pd\n",
    "\n",
    "train = pd.read_csv('UNSW_NB15_training-set.csv')\n",
    "\n",
    "train\n",
    "\n",
    "train.drop(['id', 'attack_cat'], axis = 1, inplace= True)\n",
    "\n",
    "print(train.columns.values)\n",
    "train\n",
    "\n",
    "X = train.drop('label', axis = 1)\n",
    "y = train['label']\n",
    "X = pd.get_dummies(X, columns = ['proto', 'service', 'state'], drop_first = True)\n",
    "X.info\n",
    "display(X.dtypes)\n",
    "X.iloc[:,:39]\n",
    "num_features = X.iloc[:,:39].columns.values\n",
    "display(num_features)\n",
    "cat_features = X.iloc[:,39:].columns.values\n",
    "display(cat_features)"
   ]
  },
  {
   "cell_type": "code",
   "execution_count": 2,
   "id": "9471cef2-04d5-44f3-a4d4-d61e8f5d3a07",
   "metadata": {},
   "outputs": [
    {
     "data": {
      "text/plain": [
       "dur                  0\n",
       "proto                0\n",
       "service              0\n",
       "state                0\n",
       "spkts                0\n",
       "dpkts                0\n",
       "sbytes               0\n",
       "dbytes               0\n",
       "rate                 0\n",
       "sttl                 0\n",
       "dttl                 0\n",
       "sload                0\n",
       "dload                0\n",
       "sloss                0\n",
       "dloss                0\n",
       "sinpkt               0\n",
       "dinpkt               0\n",
       "sjit                 0\n",
       "djit                 0\n",
       "swin                 0\n",
       "stcpb                0\n",
       "dtcpb                0\n",
       "dwin                 0\n",
       "tcprtt               0\n",
       "synack               0\n",
       "ackdat               0\n",
       "smean                0\n",
       "dmean                0\n",
       "trans_depth          0\n",
       "response_body_len    0\n",
       "ct_srv_src           0\n",
       "ct_state_ttl         0\n",
       "ct_dst_ltm           0\n",
       "ct_src_dport_ltm     0\n",
       "ct_dst_sport_ltm     0\n",
       "ct_dst_src_ltm       0\n",
       "is_ftp_login         0\n",
       "ct_ftp_cmd           0\n",
       "ct_flw_http_mthd     0\n",
       "ct_src_ltm           0\n",
       "ct_srv_dst           0\n",
       "is_sm_ips_ports      0\n",
       "attack_cat           0\n",
       "label                0\n",
       "dtype: int64"
      ]
     },
     "execution_count": 2,
     "metadata": {},
     "output_type": "execute_result"
    }
   ],
   "source": [
    "train.isnull().sum()"
   ]
  },
  {
   "cell_type": "markdown",
   "id": "3b7b32c5-d5b2-4761-a87d-f1a0e73f9097",
   "metadata": {},
   "source": [
    "## Setting up and Training the Pipeline (Kitchen Sink Version)"
   ]
  },
  {
   "cell_type": "code",
   "execution_count": 6,
   "id": "0903bf6f-2e90-4492-b6b5-ffe764e0782b",
   "metadata": {},
   "outputs": [
    {
     "name": "stdout",
     "output_type": "stream",
     "text": [
      "Logistic Regression model score: 0.935\n"
     ]
    },
    {
     "name": "stderr",
     "output_type": "stream",
     "text": [
      "C:\\Users\\aller\\anaconda3\\lib\\site-packages\\sklearn\\svm\\_base.py:1206: ConvergenceWarning: Liblinear failed to converge, increase the number of iterations.\n",
      "  warnings.warn(\n"
     ]
    },
    {
     "name": "stdout",
     "output_type": "stream",
     "text": [
      "SVC model score: 0.935\n",
      "Decision Tree model score: 0.948\n"
     ]
    }
   ],
   "source": [
    "from sklearn.compose import ColumnTransformer\n",
    "from sklearn.pipeline import Pipeline\n",
    "from sklearn.impute import SimpleImputer\n",
    "from sklearn.preprocessing import StandardScaler, OneHotEncoder\n",
    "from sklearn.linear_model import LogisticRegression\n",
    "from sklearn.svm import LinearSVC\n",
    "from sklearn.tree import DecisionTreeClassifier as DTC\n",
    "from sklearn.model_selection import train_test_split, GridSearchCV\n",
    "\n",
    "#numeric_features = [\"dur\", \"sbytes\", \"dbytes\", \"sttl\", \"dttl\", \"sloss\", \"dloss\", \"sload\", \"dload\", \"spkts\", \"dpkts\", \"swin\", \"dwin\", \"stcpb\", \"dtcpb\", \"trans_depth\", \"sjit\", \"djit\", \"tcprtt\", \"synack\", \"ackdat\", \"ct_state_ttl\", \"ct_flw_http_mthd\", \"ct_ftp_cmd\", \"ct_srv_src\", \"ct_srv_dst\", \"ct_dst_ltm\", \"ct_src_dport_ltm\", \"ct_dst_sport_ltm\", \"ct_dst_src_ltm\"]\n",
    "numeric_features = num_features\n",
    "numeric_transformer = Pipeline(\n",
    "    steps=[(\"imputer\", SimpleImputer(strategy=\"median\")), (\"scaler\", StandardScaler())]\n",
    ")\n",
    "\n",
    "#categorical_features = [\"proto\", \"state\", \"service\"]\n",
    "categorical_features = cat_features\n",
    "categorical_transformer = OneHotEncoder(handle_unknown=\"ignore\")\n",
    "\n",
    "preprocessor = ColumnTransformer(\n",
    "    transformers=[\n",
    "        (\"num\", numeric_transformer, numeric_features),\n",
    "        (\"cat\", categorical_transformer, categorical_features),\n",
    "    ]\n",
    ")\n",
    "\n",
    "lr_pl = Pipeline(\n",
    "    steps=[(\"preprocessor\", preprocessor), (\"classifier\", LogisticRegression(max_iter = 2000))] #incresed max_iter, default 100 wasn't enough\n",
    ")\n",
    "\n",
    "X_train, X_test, y_train, y_test = train_test_split(X, y, test_size=0.2, random_state=0)\n",
    "\n",
    "lr_pl.fit(X_train, y_train)\n",
    "print(\"Logistic Regression model score: %.3f\" % lr_pl.score(X_test, y_test))\n",
    "\n",
    "# Append classifier to preprocessing pipeline.\n",
    "# Now we have a full prediction pipeline.\n",
    "svc_pl = Pipeline(\n",
    "    steps=[(\"preprocessor\", preprocessor), (\"classifier\", LinearSVC(max_iter = 1000))] #increased max_iter, default 1000 wasn't enough, neither was 2000, nor 4000, nor 10000, and that's as far as I'm going\n",
    ")\n",
    "\n",
    "X_train, X_test, y_train, y_test = train_test_split(X, y, test_size=0.2, random_state=0)\n",
    "\n",
    "svc_pl.fit(X_train, y_train)\n",
    "print(\"SVC model score: %.3f\" % svc_pl.score(X_test, y_test))\n",
    "\n",
    "# Append classifier to preprocessing pipeline.\n",
    "# Now we have a full prediction pipeline.\n",
    "dtc_pl = Pipeline(\n",
    "    steps=[(\"preprocessor\", preprocessor), (\"classifier\", DTC())] \n",
    ")\n",
    "\n",
    "X_train, X_test, y_train, y_test = train_test_split(X, y, test_size=0.2, random_state=0)\n",
    "\n",
    "dtc_pl.fit(X_train, y_train)\n",
    "print(\"Decision Tree model score: %.3f\" % dtc_pl.score(X_test, y_test))"
   ]
  },
  {
   "cell_type": "markdown",
   "id": "2c6c78f3-2806-4e12-8003-804cbc219539",
   "metadata": {},
   "source": [
    "## Feature Selection"
   ]
  },
  {
   "cell_type": "code",
   "execution_count": 10,
   "id": "68160cb4-24ff-4665-9109-b69d96d0ca89",
   "metadata": {},
   "outputs": [
    {
     "data": {
      "text/plain": [
       "array([  0,   1,   2,   3,   4,   5,   6,   7,   8,   9,  10,  11,  12,\n",
       "        13,  14,  15,  16,  17,  18,  19,  20,  21,  22,  23,  24,  25,\n",
       "        26,  27,  28,  29,  30,  31,  32,  35,  36,  37,  38,  41,  44,\n",
       "        70,  74,  90, 109, 112, 114, 116, 117, 118, 119, 120, 121, 123,\n",
       "       125, 126, 128, 130, 131, 132, 133, 134, 135, 136, 137, 138, 139,\n",
       "       140, 141, 142, 143, 144, 145, 147, 148, 149, 150, 151, 152, 153,\n",
       "       156, 157, 158, 159, 160, 161, 162, 163, 164, 165, 166, 169, 170,\n",
       "       172, 174, 175, 177, 181, 184, 185, 187, 188], dtype=int64)"
      ]
     },
     "metadata": {},
     "output_type": "display_data"
    },
    {
     "name": "stdout",
     "output_type": "stream",
     "text": [
      "['dur' 'spkts' 'dpkts' 'sbytes' 'dbytes' 'rate' 'sttl' 'dttl' 'sload'\n",
      " 'dload' 'sloss' 'dloss' 'sinpkt' 'dinpkt' 'sjit' 'djit' 'swin' 'stcpb'\n",
      " 'dtcpb' 'dwin' 'tcprtt' 'synack' 'ackdat' 'smean' 'dmean' 'trans_depth'\n",
      " 'response_body_len' 'ct_srv_src' 'ct_state_ttl' 'ct_dst_ltm'\n",
      " 'ct_src_dport_ltm' 'ct_dst_sport_ltm' 'ct_dst_src_ltm' 'ct_flw_http_mthd'\n",
      " 'ct_src_ltm' 'ct_srv_dst' 'is_sm_ips_ports' 'proto_any' 'proto_arp'\n",
      " 'proto_gre' 'proto_ib' 'proto_ipv6' 'proto_mobile' 'proto_narp'\n",
      " 'proto_nsfnet-igp' 'proto_ospf' 'proto_pgm' 'proto_pim' 'proto_pipe'\n",
      " 'proto_pnni' 'proto_pri-enc' 'proto_ptp' 'proto_pvp' 'proto_qnx'\n",
      " 'proto_rsvp' 'proto_rvd' 'proto_sat-expak' 'proto_sat-mon'\n",
      " 'proto_sccopmce' 'proto_scps' 'proto_sctp' 'proto_sdrp'\n",
      " 'proto_secure-vmtp' 'proto_sep' 'proto_skip' 'proto_sm' 'proto_smp'\n",
      " 'proto_snp' 'proto_sprite-rpc' 'proto_sps' 'proto_srp' 'proto_stp'\n",
      " 'proto_sun-nd' 'proto_swipe' 'proto_tcf' 'proto_tcp' 'proto_tlsp'\n",
      " 'proto_tp++' 'proto_ttp' 'proto_udp' 'proto_unas' 'proto_uti'\n",
      " 'proto_vines' 'proto_visa' 'proto_vmtp' 'proto_vrrp' 'proto_wb-expak'\n",
      " 'proto_wb-mon' 'proto_wsn' 'proto_xtp' 'proto_zero' 'service_dns'\n",
      " 'service_ftp-data' 'service_http' 'service_pop3' 'service_ssh'\n",
      " 'state_FIN' 'state_INT' 'state_REQ' 'state_RST']\n",
      "['ct_srv_src' 'ct_state_ttl' 'ct_dst_ltm' 'ct_src_dport_ltm'\n",
      " 'ct_dst_sport_ltm' 'ct_dst_src_ltm' 'ct_flw_http_mthd' 'ct_src_ltm'\n",
      " 'ct_srv_dst' 'is_sm_ips_ports' 'proto_any' 'proto_arp' 'proto_gre'\n",
      " 'proto_ib' 'proto_ipv6' 'proto_mobile' 'proto_narp' 'proto_nsfnet-igp'\n",
      " 'proto_ospf' 'proto_pgm' 'proto_pim' 'proto_pipe' 'proto_pnni'\n",
      " 'proto_pri-enc' 'proto_ptp' 'proto_pvp' 'proto_qnx' 'proto_rsvp'\n",
      " 'proto_rvd' 'proto_sat-expak' 'proto_sat-mon' 'proto_sccopmce'\n",
      " 'proto_scps' 'proto_sctp' 'proto_sdrp' 'proto_secure-vmtp' 'proto_sep'\n",
      " 'proto_skip' 'proto_sm' 'proto_smp' 'proto_snp' 'proto_sprite-rpc'\n",
      " 'proto_sps' 'proto_srp' 'proto_stp' 'proto_sun-nd' 'proto_swipe'\n",
      " 'proto_tcf' 'proto_tcp' 'proto_tlsp' 'proto_tp++' 'proto_ttp' 'proto_udp'\n",
      " 'proto_unas' 'proto_uti' 'proto_vines' 'proto_visa' 'proto_vmtp'\n",
      " 'proto_vrrp' 'proto_wb-expak' 'proto_wb-mon' 'proto_wsn' 'proto_xtp'\n",
      " 'proto_zero' 'service_dns' 'service_ftp-data' 'service_http'\n",
      " 'service_pop3' 'service_ssh' 'state_FIN' 'state_INT' 'state_REQ'\n",
      " 'state_RST']\n"
     ]
    }
   ],
   "source": [
    "from sklearn.feature_selection import SelectKBest\n",
    "from sklearn.feature_selection import chi2\n",
    "X.shape\n",
    "X_new = SelectKBest(chi2, k=100).fit(X, y)\n",
    "#X_new.shape\n",
    "names = X_new.get_support(1)\n",
    "display(names)\n",
    "X_new = X[X.columns[names]]\n",
    "#X_new.get_feature_names_out()\n",
    "#display(X_new)\n",
    "#X_new = pd.DataFrame(X_new)\n",
    "X_new\n",
    "print(X_new.columns.values)\n",
    "num_features = X_new.iloc[:,:27].columns.values\n",
    "cat_features = X_new.iloc[:,27:].columns.values"
   ]
  },
  {
   "cell_type": "markdown",
   "id": "1fe1a762-9f1b-4f0a-8a47-dcab00b7be92",
   "metadata": {},
   "source": [
    "## Model Training with Feature Selection"
   ]
  },
  {
   "cell_type": "code",
   "execution_count": 11,
   "id": "2a1947ed-fb7d-4066-8a86-0de188b726e2",
   "metadata": {},
   "outputs": [
    {
     "name": "stdout",
     "output_type": "stream",
     "text": [
      "model score: 0.941\n"
     ]
    }
   ],
   "source": [
    "#numeric_features = [\"dur\", \"sbytes\", \"dbytes\", \"sttl\", \"dttl\", \"sloss\", \"dloss\", \"sload\", \"dload\", \"spkts\", \"dpkts\", \"swin\", \"dwin\", \"stcpb\", \"dtcpb\", \"trans_depth\", \"sjit\", \"djit\", \"tcprtt\", \"synack\", \"ackdat\", \"ct_state_ttl\", \"ct_flw_http_mthd\", \"ct_ftp_cmd\", \"ct_srv_src\", \"ct_srv_dst\", \"ct_dst_ltm\", \"ct_src_dport_ltm\", \"ct_dst_sport_ltm\", \"ct_dst_src_ltm\"]\n",
    "numeric_features = num_features\n",
    "numeric_transformer = Pipeline(\n",
    "    steps=[(\"imputer\", SimpleImputer(strategy=\"median\")), (\"scaler\", StandardScaler())]\n",
    ")\n",
    "\n",
    "#categorical_features = [\"proto\", \"state\", \"service\"]\n",
    "categorical_features = cat_features\n",
    "categorical_transformer = OneHotEncoder(handle_unknown=\"ignore\")\n",
    "\n",
    "preprocessor = ColumnTransformer(\n",
    "    transformers=[\n",
    "        (\"num\", numeric_transformer, numeric_features),\n",
    "        (\"cat\", categorical_transformer, categorical_features),\n",
    "    ]\n",
    ")\n",
    "\n",
    "clf = Pipeline(\n",
    "    steps=[(\"preprocessor\", preprocessor), (\"classifier\", LogisticRegression(max_iter = 2000))] #incresed max_iter, default 100 wasn't enough\n",
    ")\n",
    "\n",
    "X_train, X_test, y_train, y_test = train_test_split(X_new, y, test_size=0.2, random_state=0)\n",
    "\n",
    "clf.fit(X_train, y_train)\n",
    "print(\"model score: %.3f\" % clf.score(X_test, y_test))"
   ]
  },
  {
   "cell_type": "code",
   "execution_count": null,
   "id": "a1818f27-83f9-4a45-91ec-f04e95ceb484",
   "metadata": {},
   "outputs": [],
   "source": []
  }
 ],
 "metadata": {
  "kernelspec": {
   "display_name": "Python 3 (ipykernel)",
   "language": "python",
   "name": "python3"
  },
  "language_info": {
   "codemirror_mode": {
    "name": "ipython",
    "version": 3
   },
   "file_extension": ".py",
   "mimetype": "text/x-python",
   "name": "python",
   "nbconvert_exporter": "python",
   "pygments_lexer": "ipython3",
   "version": "3.9.7"
  }
 },
 "nbformat": 4,
 "nbformat_minor": 5
}
