{
 "cells": [
  {
   "cell_type": "code",
   "execution_count": 1,
   "id": "abb28758",
   "metadata": {},
   "outputs": [],
   "source": [
    "import pandas as pd\n",
    "import numpy as np\n",
    "import seaborn as sns\n",
    "import matplotlib.pyplot as plt\n",
    "from sklearn.model_selection import train_test_split\n",
    "from pandas.plotting import parallel_coordinates\n",
    "from sklearn.tree import DecisionTreeClassifier, plot_tree\n",
    "from sklearn import metrics\n",
    "from sklearn.naive_bayes import GaussianNB\n",
    "from sklearn.discriminant_analysis import LinearDiscriminantAnalysis, QuadraticDiscriminantAnalysis\n",
    "from sklearn.neighbors import KNeighborsClassifier\n",
    "from sklearn.svm import SVC\n",
    "from sklearn.linear_model import LogisticRegression"
   ]
  },
  {
   "cell_type": "code",
   "execution_count": 2,
   "id": "d9e490eb",
   "metadata": {},
   "outputs": [],
   "source": [
    "\n",
    "train = pd.read_csv('UNSW_NB15_training-set.csv', header='infer', low_memory=False)\n",
    "test = pd.read_csv('UNSW_NB15_testing-set.csv', header='infer', low_memory=False)\n"
   ]
  },
  {
   "cell_type": "code",
   "execution_count": 3,
   "id": "d13fb764",
   "metadata": {},
   "outputs": [
    {
     "data": {
      "text/plain": [
       "['id',\n",
       " 'dur',\n",
       " 'proto',\n",
       " 'service',\n",
       " 'state',\n",
       " 'spkts',\n",
       " 'dpkts',\n",
       " 'sbytes',\n",
       " 'dbytes',\n",
       " 'rate',\n",
       " 'sttl',\n",
       " 'dttl',\n",
       " 'sload',\n",
       " 'dload',\n",
       " 'sloss',\n",
       " 'dloss',\n",
       " 'sinpkt',\n",
       " 'dinpkt',\n",
       " 'sjit',\n",
       " 'djit',\n",
       " 'swin',\n",
       " 'stcpb',\n",
       " 'dtcpb',\n",
       " 'dwin',\n",
       " 'tcprtt',\n",
       " 'synack',\n",
       " 'ackdat',\n",
       " 'smean',\n",
       " 'dmean',\n",
       " 'trans_depth',\n",
       " 'response_body_len',\n",
       " 'ct_srv_src',\n",
       " 'ct_state_ttl',\n",
       " 'ct_dst_ltm',\n",
       " 'ct_src_dport_ltm',\n",
       " 'ct_dst_sport_ltm',\n",
       " 'ct_dst_src_ltm',\n",
       " 'is_ftp_login',\n",
       " 'ct_ftp_cmd',\n",
       " 'ct_flw_http_mthd',\n",
       " 'ct_src_ltm',\n",
       " 'ct_srv_dst',\n",
       " 'is_sm_ips_ports',\n",
       " 'attack_cat',\n",
       " 'label']"
      ]
     },
     "execution_count": 3,
     "metadata": {},
     "output_type": "execute_result"
    }
   ],
   "source": [
    "train.head(5)\n",
    "train.describe()\n",
    "\n",
    "list(train)"
   ]
  },
  {
   "cell_type": "code",
   "execution_count": 21,
   "id": "00562df9",
   "metadata": {},
   "outputs": [
    {
     "data": {
      "text/plain": [
       "[None,\n",
       " None,\n",
       " None,\n",
       " None,\n",
       " None,\n",
       " None,\n",
       " None,\n",
       " None,\n",
       " None,\n",
       " None,\n",
       " None,\n",
       " None,\n",
       " None,\n",
       " None,\n",
       " None,\n",
       " None,\n",
       " None,\n",
       " None,\n",
       " None,\n",
       " None]"
      ]
     },
     "execution_count": 21,
     "metadata": {},
     "output_type": "execute_result"
    },
    {
     "data": {
      "image/png": "[encoded data removed]",
      "text/plain": [
       "<Figure size 432x288 with 4 Axes>"
      ]
     },
     "metadata": {
      "needs_background": "light"
     },
     "output_type": "display_data"
    }
   ],
   "source": [
    "fig, axs = plt.subplots(2, 2)\n",
    "fn = [\"dbytes\", \"sbytes\", \"sloss\", \"dloss\"]\n",
    "cn = train.attack_cat.unique()\n",
    "#plt.figure(figsize=(60,60))\n",
    "plot1 = sns.boxplot(x = 'attack_cat', y = 'dbytes', data = train, order = cn, ax = axs[0,0]);\n",
    "plot2 = sns.boxplot(x = 'attack_cat', y = 'sbytes', data = train, order = cn, ax = axs[0,1]);\n",
    "plot3 = sns.boxplot(x = 'attack_cat', y = 'sloss', data = train, order = cn, ax = axs[1,0]);\n",
    "plot4 = sns.boxplot(x = 'attack_cat', y = 'dloss', data = train,  order = cn, ax = axs[1,1]);\n",
    "# add some spacing between subplots\n",
    "fig.tight_layout(pad=4.0);\n",
    "plt.setp(plot1.get_xticklabels(), rotation=90)\n",
    "plt.setp(plot2.get_xticklabels(), rotation=90)\n",
    "plt.setp(plot3.get_xticklabels(), rotation=90)\n",
    "plt.setp(plot4.get_xticklabels(), rotation=90)"
   ]
  },
  {
   "cell_type": "code",
   "execution_count": null,
   "id": "d1d3e3cb",
   "metadata": {},
   "outputs": [],
   "source": [
    "sns.pairplot(train, hue=\"attack_cat\", height = 2, palette = 'colorblind');"
   ]
  },
  {
   "cell_type": "code",
   "execution_count": null,
   "id": "17feef6b",
   "metadata": {
    "scrolled": true
   },
   "outputs": [],
   "source": [
    "corrmat = train.corr()\n",
    "plt.figure(figsize=(60,32))\n",
    "sns.heatmap(corrmat, annot = True, square = True);"
   ]
  },
  {
   "cell_type": "code",
   "execution_count": 4,
   "id": "f9152f45",
   "metadata": {},
   "outputs": [],
   "source": [
    "X_train = train[[ \"sbytes\", \"sloss\", \"ct_srv_dst\", \"ct_dst_sport_ltm\", \"ct_src_dport_ltm\"]]\n",
    "y_train = train.label\n",
    "X_test = test[[ \"sbytes\", \"sloss\", \"ct_srv_dst\", \"ct_dst_sport_ltm\", \"ct_src_dport_ltm\"]]\n",
    "y_test = test.label"
   ]
  },
  {
   "cell_type": "code",
   "execution_count": 21,
   "id": "72560f80",
   "metadata": {},
   "outputs": [
    {
     "name": "stdout",
     "output_type": "stream",
     "text": [
      "The accuracy of the Decision Tree is 0.862\n"
     ]
    }
   ],
   "source": [
    "mod_dt = DecisionTreeClassifier(max_depth = 15, random_state = 1)\n",
    "mod_dt.fit(X_train,y_train)\n",
    "prediction=mod_dt.predict(X_test)\n",
    "print('The accuracy of the Decision Tree is',\"{:.3f}\".format(metrics.accuracy_score(prediction,y_test)))"
   ]
  },
  {
   "cell_type": "code",
   "execution_count": null,
   "id": "5349bd91",
   "metadata": {},
   "outputs": [],
   "source": [
    "X_train = train[[ \"sbytes\", \"sloss\", \"ct_srv_dst\", \"ct_dst_sport_ltm\", \"ct_src_dport_ltm\"]]\n",
    "y_train = train.attack_cat\n",
    "X_test = test[[ \"sbytes\", \"sloss\", \"ct_srv_dst\", \"ct_dst_sport_ltm\", \"ct_src_dport_ltm\"]]\n",
    "y_test = test.attack_cat"
   ]
  },
  {
   "cell_type": "code",
   "execution_count": null,
   "id": "0fecaf73",
   "metadata": {},
   "outputs": [],
   "source": [
    "mod_dt = DecisionTreeClassifier(max_depth = 30, random_state = 1)\n",
    "mod_dt.fit(X_train,y_train)\n",
    "prediction=mod_dt.predict(X_test)\n",
    "print('The accuracy of the Decision Tree is',\"{:.3f}\".format(metrics.accuracy_score(prediction,y_test)))"
   ]
  },
  {
   "cell_type": "code",
   "execution_count": 11,
   "id": "6990a7f3",
   "metadata": {},
   "outputs": [
    {
     "data": {
      "text/plain": [
       "array([0.4128304 , 0.18509827, 0.16140632, 0.23568438, 0.00498063])"
      ]
     },
     "execution_count": 11,
     "metadata": {},
     "output_type": "execute_result"
    }
   ],
   "source": [
    "mod_dt.feature_importances_"
   ]
  },
  {
   "cell_type": "code",
   "execution_count": null,
   "id": "e34232cc",
   "metadata": {},
   "outputs": [],
   "source": [
    "disp = metrics.plot_confusion_matrix(mod_dt, X_test, y_test,\n",
    "                                 display_labels=cn,\n",
    "                                 cmap=plt.cm.Blues,\n",
    "                                 normalize=None)\n",
    "disp.ax_.set_title('Decision Tree Confusion matrix, without normalization');"
   ]
  },
  {
   "cell_type": "code",
   "execution_count": null,
   "id": "011131d2",
   "metadata": {},
   "outputs": [],
   "source": []
  }
 ],
 "metadata": {
  "kernelspec": {
   "display_name": "Python 3 (ipykernel)",
   "language": "python",
   "name": "python3"
  },
  "language_info": {
   "codemirror_mode": {
    "name": "ipython",
    "version": 3
   },
   "file_extension": ".py",
   "mimetype": "text/x-python",
   "name": "python",
   "nbconvert_exporter": "python",
   "pygments_lexer": "ipython3",
   "version": "3.8.12"
  }
 },
 "nbformat": 4,
 "nbformat_minor": 5
}
